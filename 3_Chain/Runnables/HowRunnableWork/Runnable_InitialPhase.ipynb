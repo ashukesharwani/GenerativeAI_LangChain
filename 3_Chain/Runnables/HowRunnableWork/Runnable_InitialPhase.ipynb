{
 "cells": [
  {
   "cell_type": "markdown",
   "id": "a64c2dc7",
   "metadata": {},
   "source": [
    "### It the inital phase of Runnable how it was developed\n",
    "\n",
    "Problem in this was \n",
    "1. It is not standardised for every funcation it's has own name"
   ]
  },
  {
   "cell_type": "markdown",
   "id": "11978319",
   "metadata": {},
   "source": [
    "Creating LLM\n",
    "1. This demonstate how llm has created and how it return the answer for our question"
   ]
  },
  {
   "cell_type": "code",
   "execution_count": 74,
   "id": "4d67a60f",
   "metadata": {},
   "outputs": [],
   "source": [
    "import random\n",
    "\n",
    "# Creating LLM how it is excectly created\n",
    "class NakliLLM:\n",
    "    def __init__(self):\n",
    "        print(\"LLM Created\")\n",
    "    \n",
    "    def predict(self,prompt):\n",
    "        \n",
    "        # if some one ask something how llM response like that we are creating\n",
    "        response_list = [\n",
    "        'Delhi is the capital of India',\n",
    "        'IPL is a cricket league',\n",
    "        'AI stands for Artificial Intelligence'\n",
    "        ]\n",
    "        return {'response':random.choice(response_list)}\n",
    "    "
   ]
  },
  {
   "cell_type": "code",
   "execution_count": 75,
   "id": "2795f813",
   "metadata": {},
   "outputs": [
    {
     "name": "stdout",
     "output_type": "stream",
     "text": [
      "LLM Created\n"
     ]
    },
    {
     "data": {
      "text/plain": [
       "{'response': 'IPL is a cricket league'}"
      ]
     },
     "execution_count": 75,
     "metadata": {},
     "output_type": "execute_result"
    }
   ],
   "source": [
    "# Calling LLM by providng input expecting to return the value\n",
    "llm = NakliLLM()\n",
    "llm.predict(\"what is the captial fo India\")\n"
   ]
  },
  {
   "cell_type": "markdown",
   "id": "c259bb76",
   "metadata": {},
   "source": [
    "Creating Prompt component template\n",
    "1. This demonstate how Prompt Template has created and how it return the answer for our question"
   ]
  },
  {
   "cell_type": "code",
   "execution_count": 76,
   "id": "aa5dfd31",
   "metadata": {},
   "outputs": [],
   "source": [
    "class NakliPromptTemplate:\n",
    "    \n",
    "    def __init__(self,template,input_variable):\n",
    "        self.template=template\n",
    "        self.input_variable=input_variable\n",
    "    \n",
    "    def format(self,input_dict):\n",
    "        return self.template.format(**input_dict)\n",
    "         # this function is filling the input_variable(dictionaly) into string i.e template\n",
    "    "
   ]
  },
  {
   "cell_type": "code",
   "execution_count": 77,
   "id": "22ed888d",
   "metadata": {},
   "outputs": [],
   "source": [
    "# Creating template in the frontent\n",
    "template=NakliPromptTemplate(\n",
    "    template=\"Write a {length} poem about the {topic}\",\n",
    "    input_variable=['length','topic']\n",
    ")"
   ]
  },
  {
   "cell_type": "code",
   "execution_count": 78,
   "id": "ff98c107",
   "metadata": {},
   "outputs": [
    {
     "data": {
      "text/plain": [
       "'Write a short poem about the India'"
      ]
     },
     "execution_count": 78,
     "metadata": {},
     "output_type": "execute_result"
    }
   ],
   "source": [
    "\n",
    "# Calling the template and getting return\n",
    "prompt=template.format({'length':'short','topic':'India'})\n",
    "prompt"
   ]
  },
  {
   "cell_type": "code",
   "execution_count": 79,
   "id": "3db098f8",
   "metadata": {},
   "outputs": [
    {
     "name": "stdout",
     "output_type": "stream",
     "text": [
      "LLM Created\n"
     ]
    },
    {
     "data": {
      "text/plain": [
       "{'response': 'IPL is a cricket league'}"
      ]
     },
     "execution_count": 79,
     "metadata": {},
     "output_type": "execute_result"
    }
   ],
   "source": [
    "llm = NakliLLM()\n",
    "llm.predict(prompt)"
   ]
  },
  {
   "cell_type": "markdown",
   "id": "5a769c3b",
   "metadata": {},
   "source": [
    "Creating Chain to call the LLLM and execute the task\n"
   ]
  },
  {
   "cell_type": "code",
   "execution_count": null,
   "id": "c53d9e5d",
   "metadata": {},
   "outputs": [],
   "source": [
    "# Creating chain to integrate prompt and llm \n",
    "class NakliLLMChain:\n",
    "\n",
    "  def __init__(self, llm, prompt):\n",
    "    self.llm = llm\n",
    "    self.prompt = prompt\n",
    "\n",
    "  def run(self, input_dict):\n",
    "    \n",
    "    #Calling Prompt Template function \n",
    "    final_prompt = self.prompt.format(input_dict)\n",
    "    \n",
    "    #Calling LLM function and sending he prompt received from previous \n",
    "    result = self.llm.predict(final_prompt)\n",
    "\n",
    "    return result['response']"
   ]
  },
  {
   "cell_type": "markdown",
   "id": "254048b2",
   "metadata": {},
   "source": [
    "Demonistrating how we crate template and call pass template to llm in forntent in Lagchain"
   ]
  },
  {
   "cell_type": "code",
   "execution_count": 81,
   "id": "a07e304d",
   "metadata": {},
   "outputs": [],
   "source": [
    "template = NakliPromptTemplate(\n",
    "    template='Write a {length} poem about {topic}',\n",
    "    input_variable=['length', 'topic']\n",
    ")"
   ]
  },
  {
   "cell_type": "code",
   "execution_count": 82,
   "id": "5fd35ae6",
   "metadata": {},
   "outputs": [
    {
     "name": "stdout",
     "output_type": "stream",
     "text": [
      "LLM Created\n"
     ]
    }
   ],
   "source": [
    "llm = NakliLLM()"
   ]
  },
  {
   "cell_type": "code",
   "execution_count": 83,
   "id": "4805997b",
   "metadata": {},
   "outputs": [],
   "source": [
    "chain = NakliLLMChain(llm, template)"
   ]
  },
  {
   "cell_type": "code",
   "execution_count": 84,
   "id": "96811dc3",
   "metadata": {},
   "outputs": [
    {
     "data": {
      "text/plain": [
       "'IPL is a cricket league'"
      ]
     },
     "execution_count": 84,
     "metadata": {},
     "output_type": "execute_result"
    }
   ],
   "source": [
    "chain.run({'length':'short', 'topic': 'india'})"
   ]
  }
 ],
 "metadata": {
  "kernelspec": {
   "display_name": "Python 3",
   "language": "python",
   "name": "python3"
  },
  "language_info": {
   "codemirror_mode": {
    "name": "ipython",
    "version": 3
   },
   "file_extension": ".py",
   "mimetype": "text/x-python",
   "name": "python",
   "nbconvert_exporter": "python",
   "pygments_lexer": "ipython3",
   "version": "3.9.6"
  }
 },
 "nbformat": 4,
 "nbformat_minor": 5
}
